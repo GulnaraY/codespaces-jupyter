{
 "cells": [
  {

    "\n",
    "# Split the data into the features (X) and the target variable (y)\n",
    "X = data[['Gulnara', 'Jaan', 'Indrek']]  # replace with the names of your features\n",
    "y = data['Word']  # replace with the name of your target variable\n",
    "\n",
    "# Convert the target variable to numerical values using LabelEncoder\n",
    "le = LabelEncoder()\n",
    "y = le.fit_transform(y)\n",
    "\n",
    "# Split the data into training and testing sets\n",
    "X_train, X_test, y_train, y_test = train_test_split(X, y, test_size=0.2)\n",
    "\n",
    "# Create and fit the logistic regression model\n",
    "model = LogisticRegression()\n",
    "model.fit(X_train, y_train)\n",
    "\n",
    "# Use the trained model to make predictions on the test set\n",
    "y_pred = model.predict(X_test)\n",
    "\n",
    "# Create a 3D scatter plot of the data\n",
    "fig = plt.figure()\n",
    "ax = fig.add_subplot(111, projection='3d')\n",
    "ax.scatter(X['Gulnara'], X['Jaan'], X['Indrek'], c=y)\n",
    "ax.set_xlabel('Gulnara')\n",
    "ax.set_ylabel('Jaan')\n",
    "ax.set_zlabel('Indrek')\n",
    "plt.show()\n"
   ]
  }
 ],
 "metadata": {
  "kernelspec": {
   "display_name": "Python 3.10.4 64-bit",
   "language": "python",
   "name": "python3"
  },
  "language_info": {
   "codemirror_mode": {
    "name": "ipython",
    "version": 3
   },
   "file_extension": ".py",
   "mimetype": "text/x-python",
   "name": "python",
   "nbconvert_exporter": "python",
   "pygments_lexer": "ipython3",
   "version": "3.10.4"
  },
  "orig_nbformat": 4,
  "vscode": {
   "interpreter": {
    "hash": "3ad933181bd8a04b432d3370b9dc3b0662ad032c4dfaa4e4f1596c548f763858"
   }
  }
 },
 "nbformat": 4,
 "nbformat_minor": 2
}
